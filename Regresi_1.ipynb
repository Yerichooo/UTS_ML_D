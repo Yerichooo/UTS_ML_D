{
 "cells": [
  {
   "cell_type": "markdown",
   "id": "38149512-ca47-41e3-8688-f8b8755dafb0",
   "metadata": {},
   "source": [
    "# Yericho Harvey Krisetyanto\n",
    "# 202231012"
   ]
  },
  {
   "cell_type": "markdown",
   "id": "b41cc34a-5672-44ff-a043-95145fc60fd1",
   "metadata": {},
   "source": [
    "#### import numpy as np: Ini adalah baris untuk mengimpor modul NumPy, yang menyediakan fungsi-fungsi dan struktur data\n",
    "#### import pandas as pd: Ini adalah baris untuk mengimpor modul Pandas, yang menyediakan struktur data dan alat analisis data yang mudah digunakan\n",
    "#### from matplotlib import pyplot as plt: Ini adalah baris untuk mengimpor submodul pyplot dari modul Matplotlib, yang menyediakan fungsi-fungsi untuk membuat plot dan visualisasi data.\n",
    "####  from sklearn.linear_model import LinearRegression: Ini adalah baris untuk mengimpor kelas LinearRegression dari modul linear_model di dalam scikit-learn (sklearn), yang menyediakan implementasi regresi linear."
   ]
  },
  {
   "cell_type": "code",
   "execution_count": 1,
   "id": "fdf01f6c-1a8c-42fc-ba19-06a91218b345",
   "metadata": {},
   "outputs": [],
   "source": [
    "import numpy as np\n",
    "import pandas as pd\n",
    "from matplotlib import pyplot as plt\n",
    "from sklearn.linear_model import LinearRegression"
   ]
  },
  {
   "cell_type": "markdown",
   "id": "44994dcb-d743-4bd9-ad88-a65824801404",
   "metadata": {},
   "source": [
    "#### data = pd.read_csv(\"studentperformance.csv\"): ini untuk membaca data dari file CSV bernama \"studentperformance.csv\" dan menyimpannya dalam variabel data\n",
    "#### data = variable dari dataset yang telah dibaca "
   ]
  },
  {
   "cell_type": "code",
   "execution_count": 2,
   "id": "76d4e841-a290-47c8-842d-e86f47050334",
   "metadata": {},
   "outputs": [
    {
     "data": {
      "text/html": [
       "<div>\n",
       "<style scoped>\n",
       "    .dataframe tbody tr th:only-of-type {\n",
       "        vertical-align: middle;\n",
       "    }\n",
       "\n",
       "    .dataframe tbody tr th {\n",
       "        vertical-align: top;\n",
       "    }\n",
       "\n",
       "    .dataframe thead th {\n",
       "        text-align: right;\n",
       "    }\n",
       "</style>\n",
       "<table border=\"1\" class=\"dataframe\">\n",
       "  <thead>\n",
       "    <tr style=\"text-align: right;\">\n",
       "      <th></th>\n",
       "      <th>Study Hours (X)</th>\n",
       "      <th>Exam Scores (Y)</th>\n",
       "    </tr>\n",
       "  </thead>\n",
       "  <tbody>\n",
       "    <tr>\n",
       "      <th>0</th>\n",
       "      <td>1.5</td>\n",
       "      <td>60</td>\n",
       "    </tr>\n",
       "    <tr>\n",
       "      <th>1</th>\n",
       "      <td>2.0</td>\n",
       "      <td>65</td>\n",
       "    </tr>\n",
       "    <tr>\n",
       "      <th>2</th>\n",
       "      <td>2.5</td>\n",
       "      <td>73</td>\n",
       "    </tr>\n",
       "    <tr>\n",
       "      <th>3</th>\n",
       "      <td>3.0</td>\n",
       "      <td>75</td>\n",
       "    </tr>\n",
       "    <tr>\n",
       "      <th>4</th>\n",
       "      <td>2.0</td>\n",
       "      <td>62</td>\n",
       "    </tr>\n",
       "    <tr>\n",
       "      <th>5</th>\n",
       "      <td>3.5</td>\n",
       "      <td>85</td>\n",
       "    </tr>\n",
       "    <tr>\n",
       "      <th>6</th>\n",
       "      <td>4.0</td>\n",
       "      <td>92</td>\n",
       "    </tr>\n",
       "    <tr>\n",
       "      <th>7</th>\n",
       "      <td>3.0</td>\n",
       "      <td>78</td>\n",
       "    </tr>\n",
       "    <tr>\n",
       "      <th>8</th>\n",
       "      <td>1.8</td>\n",
       "      <td>63</td>\n",
       "    </tr>\n",
       "    <tr>\n",
       "      <th>9</th>\n",
       "      <td>4.5</td>\n",
       "      <td>95</td>\n",
       "    </tr>\n",
       "    <tr>\n",
       "      <th>10</th>\n",
       "      <td>2.7</td>\n",
       "      <td>70</td>\n",
       "    </tr>\n",
       "    <tr>\n",
       "      <th>11</th>\n",
       "      <td>3.2</td>\n",
       "      <td>80</td>\n",
       "    </tr>\n",
       "    <tr>\n",
       "      <th>12</th>\n",
       "      <td>2.1</td>\n",
       "      <td>66</td>\n",
       "    </tr>\n",
       "    <tr>\n",
       "      <th>13</th>\n",
       "      <td>4.0</td>\n",
       "      <td>88</td>\n",
       "    </tr>\n",
       "    <tr>\n",
       "      <th>14</th>\n",
       "      <td>2.9</td>\n",
       "      <td>75</td>\n",
       "    </tr>\n",
       "    <tr>\n",
       "      <th>15</th>\n",
       "      <td>1.6</td>\n",
       "      <td>58</td>\n",
       "    </tr>\n",
       "    <tr>\n",
       "      <th>16</th>\n",
       "      <td>3.8</td>\n",
       "      <td>89</td>\n",
       "    </tr>\n",
       "    <tr>\n",
       "      <th>17</th>\n",
       "      <td>2.3</td>\n",
       "      <td>69</td>\n",
       "    </tr>\n",
       "    <tr>\n",
       "      <th>18</th>\n",
       "      <td>4.2</td>\n",
       "      <td>92</td>\n",
       "    </tr>\n",
       "    <tr>\n",
       "      <th>19</th>\n",
       "      <td>3.5</td>\n",
       "      <td>82</td>\n",
       "    </tr>\n",
       "    <tr>\n",
       "      <th>20</th>\n",
       "      <td>3.0</td>\n",
       "      <td>76</td>\n",
       "    </tr>\n",
       "    <tr>\n",
       "      <th>21</th>\n",
       "      <td>2.5</td>\n",
       "      <td>67</td>\n",
       "    </tr>\n",
       "    <tr>\n",
       "      <th>22</th>\n",
       "      <td>3.7</td>\n",
       "      <td>87</td>\n",
       "    </tr>\n",
       "    <tr>\n",
       "      <th>23</th>\n",
       "      <td>2.8</td>\n",
       "      <td>72</td>\n",
       "    </tr>\n",
       "    <tr>\n",
       "      <th>24</th>\n",
       "      <td>4.1</td>\n",
       "      <td>90</td>\n",
       "    </tr>\n",
       "    <tr>\n",
       "      <th>25</th>\n",
       "      <td>3.3</td>\n",
       "      <td>80</td>\n",
       "    </tr>\n",
       "    <tr>\n",
       "      <th>26</th>\n",
       "      <td>2.4</td>\n",
       "      <td>68</td>\n",
       "    </tr>\n",
       "    <tr>\n",
       "      <th>27</th>\n",
       "      <td>3.6</td>\n",
       "      <td>84</td>\n",
       "    </tr>\n",
       "    <tr>\n",
       "      <th>28</th>\n",
       "      <td>2.2</td>\n",
       "      <td>70</td>\n",
       "    </tr>\n",
       "    <tr>\n",
       "      <th>29</th>\n",
       "      <td>1.9</td>\n",
       "      <td>61</td>\n",
       "    </tr>\n",
       "    <tr>\n",
       "      <th>30</th>\n",
       "      <td>3.9</td>\n",
       "      <td>91</td>\n",
       "    </tr>\n",
       "    <tr>\n",
       "      <th>31</th>\n",
       "      <td>2.6</td>\n",
       "      <td>74</td>\n",
       "    </tr>\n",
       "    <tr>\n",
       "      <th>32</th>\n",
       "      <td>4.3</td>\n",
       "      <td>93</td>\n",
       "    </tr>\n",
       "    <tr>\n",
       "      <th>33</th>\n",
       "      <td>3.4</td>\n",
       "      <td>79</td>\n",
       "    </tr>\n",
       "    <tr>\n",
       "      <th>34</th>\n",
       "      <td>2.7</td>\n",
       "      <td>71</td>\n",
       "    </tr>\n",
       "    <tr>\n",
       "      <th>35</th>\n",
       "      <td>1.7</td>\n",
       "      <td>59</td>\n",
       "    </tr>\n",
       "    <tr>\n",
       "      <th>36</th>\n",
       "      <td>4.4</td>\n",
       "      <td>94</td>\n",
       "    </tr>\n",
       "    <tr>\n",
       "      <th>37</th>\n",
       "      <td>3.2</td>\n",
       "      <td>77</td>\n",
       "    </tr>\n",
       "    <tr>\n",
       "      <th>38</th>\n",
       "      <td>2.0</td>\n",
       "      <td>61</td>\n",
       "    </tr>\n",
       "    <tr>\n",
       "      <th>39</th>\n",
       "      <td>3.1</td>\n",
       "      <td>84</td>\n",
       "    </tr>\n",
       "    <tr>\n",
       "      <th>40</th>\n",
       "      <td>2.3</td>\n",
       "      <td>66</td>\n",
       "    </tr>\n",
       "    <tr>\n",
       "      <th>41</th>\n",
       "      <td>4.0</td>\n",
       "      <td>89</td>\n",
       "    </tr>\n",
       "    <tr>\n",
       "      <th>42</th>\n",
       "      <td>3.7</td>\n",
       "      <td>73</td>\n",
       "    </tr>\n",
       "    <tr>\n",
       "      <th>43</th>\n",
       "      <td>2.5</td>\n",
       "      <td>63</td>\n",
       "    </tr>\n",
       "    <tr>\n",
       "      <th>44</th>\n",
       "      <td>4.1</td>\n",
       "      <td>95</td>\n",
       "    </tr>\n",
       "    <tr>\n",
       "      <th>45</th>\n",
       "      <td>3.0</td>\n",
       "      <td>78</td>\n",
       "    </tr>\n",
       "    <tr>\n",
       "      <th>46</th>\n",
       "      <td>1.8</td>\n",
       "      <td>68</td>\n",
       "    </tr>\n",
       "    <tr>\n",
       "      <th>47</th>\n",
       "      <td>4.5</td>\n",
       "      <td>91</td>\n",
       "    </tr>\n",
       "    <tr>\n",
       "      <th>48</th>\n",
       "      <td>3.3</td>\n",
       "      <td>70</td>\n",
       "    </tr>\n",
       "    <tr>\n",
       "      <th>49</th>\n",
       "      <td>2.2</td>\n",
       "      <td>76</td>\n",
       "    </tr>\n",
       "  </tbody>\n",
       "</table>\n",
       "</div>"
      ],
      "text/plain": [
       "    Study Hours (X)  Exam Scores (Y)\n",
       "0               1.5               60\n",
       "1               2.0               65\n",
       "2               2.5               73\n",
       "3               3.0               75\n",
       "4               2.0               62\n",
       "5               3.5               85\n",
       "6               4.0               92\n",
       "7               3.0               78\n",
       "8               1.8               63\n",
       "9               4.5               95\n",
       "10              2.7               70\n",
       "11              3.2               80\n",
       "12              2.1               66\n",
       "13              4.0               88\n",
       "14              2.9               75\n",
       "15              1.6               58\n",
       "16              3.8               89\n",
       "17              2.3               69\n",
       "18              4.2               92\n",
       "19              3.5               82\n",
       "20              3.0               76\n",
       "21              2.5               67\n",
       "22              3.7               87\n",
       "23              2.8               72\n",
       "24              4.1               90\n",
       "25              3.3               80\n",
       "26              2.4               68\n",
       "27              3.6               84\n",
       "28              2.2               70\n",
       "29              1.9               61\n",
       "30              3.9               91\n",
       "31              2.6               74\n",
       "32              4.3               93\n",
       "33              3.4               79\n",
       "34              2.7               71\n",
       "35              1.7               59\n",
       "36              4.4               94\n",
       "37              3.2               77\n",
       "38              2.0               61\n",
       "39              3.1               84\n",
       "40              2.3               66\n",
       "41              4.0               89\n",
       "42              3.7               73\n",
       "43              2.5               63\n",
       "44              4.1               95\n",
       "45              3.0               78\n",
       "46              1.8               68\n",
       "47              4.5               91\n",
       "48              3.3               70\n",
       "49              2.2               76"
      ]
     },
     "execution_count": 2,
     "metadata": {},
     "output_type": "execute_result"
    }
   ],
   "source": [
    "data = pd.read_csv(\"studentperformance.csv\")\n",
    "data"
   ]
  },
  {
   "cell_type": "markdown",
   "id": "6d5b771b-06f0-45d4-9909-4f24d3f07cf4",
   "metadata": {},
   "source": [
    "#### data.head(): ini untuk menampilkan 5 baris pertama untuk memastikan data telah dimuat dengan benar"
   ]
  },
  {
   "cell_type": "code",
   "execution_count": 3,
   "id": "c6499166-8ce6-4b97-bfbd-04869ac43ea7",
   "metadata": {},
   "outputs": [
    {
     "data": {
      "text/html": [
       "<div>\n",
       "<style scoped>\n",
       "    .dataframe tbody tr th:only-of-type {\n",
       "        vertical-align: middle;\n",
       "    }\n",
       "\n",
       "    .dataframe tbody tr th {\n",
       "        vertical-align: top;\n",
       "    }\n",
       "\n",
       "    .dataframe thead th {\n",
       "        text-align: right;\n",
       "    }\n",
       "</style>\n",
       "<table border=\"1\" class=\"dataframe\">\n",
       "  <thead>\n",
       "    <tr style=\"text-align: right;\">\n",
       "      <th></th>\n",
       "      <th>Study Hours (X)</th>\n",
       "      <th>Exam Scores (Y)</th>\n",
       "    </tr>\n",
       "  </thead>\n",
       "  <tbody>\n",
       "    <tr>\n",
       "      <th>0</th>\n",
       "      <td>1.5</td>\n",
       "      <td>60</td>\n",
       "    </tr>\n",
       "    <tr>\n",
       "      <th>1</th>\n",
       "      <td>2.0</td>\n",
       "      <td>65</td>\n",
       "    </tr>\n",
       "    <tr>\n",
       "      <th>2</th>\n",
       "      <td>2.5</td>\n",
       "      <td>73</td>\n",
       "    </tr>\n",
       "    <tr>\n",
       "      <th>3</th>\n",
       "      <td>3.0</td>\n",
       "      <td>75</td>\n",
       "    </tr>\n",
       "    <tr>\n",
       "      <th>4</th>\n",
       "      <td>2.0</td>\n",
       "      <td>62</td>\n",
       "    </tr>\n",
       "  </tbody>\n",
       "</table>\n",
       "</div>"
      ],
      "text/plain": [
       "   Study Hours (X)  Exam Scores (Y)\n",
       "0              1.5               60\n",
       "1              2.0               65\n",
       "2              2.5               73\n",
       "3              3.0               75\n",
       "4              2.0               62"
      ]
     },
     "execution_count": 3,
     "metadata": {},
     "output_type": "execute_result"
    }
   ],
   "source": [
    "data.head()"
   ]
  },
  {
   "cell_type": "markdown",
   "id": "fe75630c-adad-470c-a9d1-6b7d6727c42e",
   "metadata": {},
   "source": [
    "#### print(data.isnull().sum()): Ini berguna untuk memahami kualitas data dan apakah perlu dilakukan pembersihan atau penanganan data yang hilang sebelum melakukan analisis lebih lanjut.\n",
    "#### data.info(): Ini memberikan gambaran umum tentang struktur dan karakteristik dataset, yang berguna untuk memahami data sebelum melakukan analisis."
   ]
  },
  {
   "cell_type": "code",
   "execution_count": 4,
   "id": "30d57089-9379-4b71-b5f7-9fa7cf65dc66",
   "metadata": {},
   "outputs": [
    {
     "name": "stdout",
     "output_type": "stream",
     "text": [
      "Study Hours (X)    0\n",
      "Exam Scores (Y)    0\n",
      "dtype: int64\n",
      "<class 'pandas.core.frame.DataFrame'>\n",
      "RangeIndex: 50 entries, 0 to 49\n",
      "Data columns (total 2 columns):\n",
      " #   Column           Non-Null Count  Dtype  \n",
      "---  ------           --------------  -----  \n",
      " 0   Study Hours (X)  50 non-null     float64\n",
      " 1   Exam Scores (Y)  50 non-null     int64  \n",
      "dtypes: float64(1), int64(1)\n",
      "memory usage: 932.0 bytes\n"
     ]
    }
   ],
   "source": [
    "print(data.isnull().sum())\n",
    "data.info()"
   ]
  },
  {
   "cell_type": "markdown",
   "id": "02e34376-0c2b-4434-b046-d30d0ef2b939",
   "metadata": {},
   "source": [
    "#### plt.figure(figsize=(8, 6)): Ini untuk membuat gambar (figure) dengan ukuran 8x6 inci.\n",
    "#### plt.scatter(data['Study Hours (X)'], data['Exam Scores (Y)'], color='blue'): ini berguna untuk membuat scatter plot (titik-titik) dengan data 'Study Hours (X)' sebagai sumbu x dan 'Exam Scores (Y)' sebagai sumbu y, dengan warna biru.\n",
    "#### plt.title(\"Study Hours vs. Exam Scores\"): Memberikan judul pada plot.\n",
    "#### plt.xlabel(\"Study Hours (X)\"): Memberikan judul pada X.\n",
    "#### plt.ylabel(\"Exam Scores (Y)\"): Memberikan judul pada Y.\n",
    "#### plt.grid(True): ini untuk menampilkan grid pada plot.\n",
    "#### plt.show(): Ini untuk menampilkan plot"
   ]
  },
  {
   "cell_type": "code",
   "execution_count": 5,
   "id": "e153d2b8-5972-4b25-9043-e906ee817aef",
   "metadata": {},
   "outputs": [
    {
     "data": {
      "image/png": "[encoded data removed]",
      "text/plain": [
       "<Figure size 800x600 with 1 Axes>"
      ]
     },
     "metadata": {},
     "output_type": "display_data"
    }
   ],
   "source": [
    "plt.figure(figsize=(8, 6))\n",
    "plt.scatter(data['Study Hours (X)'], data['Exam Scores (Y)'], color='blue')\n",
    "plt.title(\"Study Hours vs. Exam Scores\")\n",
    "plt.xlabel(\"Study Hours (X)\")\n",
    "plt.ylabel(\"Exam Scores (Y)\")\n",
    "plt.grid(True)\n",
    "plt.show()"
   ]
  },
  {
   "cell_type": "markdown",
   "id": "2e3052e9-107e-4857-9b49-2975b7101849",
   "metadata": {},
   "source": [
    "#### from sklearn.model_selection import train_test_split:  Ini untuk membagi dataset menjadi set pelatihan dan set pengujian.\n",
    "\n",
    "##### X = data[['Study Hours (X)']]: Untuk menetapkan variable X\n",
    "##### y = data['Exam Scores (Y)']: Untuk menetapkan variable Y\n",
    "\n",
    "#### X_train, X_test, y_train, y_test = train_test_split(X, y, test_size=0.2, random_state=42): Ini untuk membagi data menjadi data latih dan data uji"
   ]
  },
  {
   "cell_type": "code",
   "execution_count": 6,
   "id": "a9456b48-3771-4f78-bc42-542943972ea9",
   "metadata": {},
   "outputs": [],
   "source": [
    "from sklearn.model_selection import train_test_split\n",
    "\n",
    "X = data[['Study Hours (X)']]\n",
    "y = data['Exam Scores (Y)']\n",
    "\n",
    "X_train, X_test, y_train, y_test = train_test_split(X, y, test_size=0.2, random_state=42)"
   ]
  },
  {
   "cell_type": "markdown",
   "id": "f3ee3848-b98f-4eab-80d2-d54fd72805eb",
   "metadata": {},
   "source": [
    "#### x_train = data['Study Hours (X)'].values[:, np.newaxis]:  Ini mengambil nilai kolom 'Study Hours (X)' dari DataFrame data dan mengubahnya menjadi array NumPy 2D. \n",
    "#### y_train = data['Exam Scores (Y)'].values:  Ini mengambil nilai kolom 'Exam Scores (Y)' dari DataFrame data dan menyimpannya dalam array NumPy 1D.\n",
    "\n",
    "#### lm = LinearRegression(): Untuk membuat instance dari model regresi linear scikit-learn.\n",
    "#### lm.fit(x_train, y_train): Untuk Melatih model regresi linear dengan data pelatihan x_train (jam belajar) dan y_train (nilai ujian).\n",
    "\n",
    "#### print(\"Coefficient:\", lm.coef_): Untuk mencetak koefisien regresi, yang menunjukkan seberapa besar perubahan nilai ujian untuk setiap perubahan satu unit pada jam belajar.\n",
    "#### print(\"Intercept:\", lm.intercept_): Untuk mencetak intercept regresi, yang menunjukkan nilai prediksi ujian ketika jam belajar adalah 0."
   ]
  },
  {
   "cell_type": "code",
   "execution_count": 7,
   "id": "3e567531-9112-404c-93bb-aa202cb4c9d3",
   "metadata": {},
   "outputs": [
    {
     "name": "stdout",
     "output_type": "stream",
     "text": [
      "Coefficient: [12.1211854]\n",
      "Intercept: 40.04371669027397\n"
     ]
    }
   ],
   "source": [
    "x_train = data['Study Hours (X)'].values[:, np.newaxis]\n",
    "y_train = data['Exam Scores (Y)'].values\n",
    "\n",
    "lm = LinearRegression()\n",
    "lm.fit(x_train, y_train)\n",
    "\n",
    "print(\"Coefficient:\", lm.coef_)\n",
    "print(\"Intercept:\", lm.intercept_)"
   ]
  },
  {
   "cell_type": "markdown",
   "id": "8525529f-2de3-40d0-ae07-fae196ecec49",
   "metadata": {},
   "source": [
    "#### from sklearn.metrics import r2_score:  Ini digunakan untuk menghitung skor R-squared, yang merupakan metrik untuk mengevaluasi kinerja model regresi.\n",
    "\n",
    "#### akurasi = r2_score(y_test, y_pred): Ini untuk menghitung skor R-squared dengan memanggil fungsi\n",
    "#### print(\"Akurasi model (R-squared):\", akurasi * 100, \"%\"): Untuk mencetak hasil akurasi model dalam bentuk persentase."
   ]
  },
  {
   "cell_type": "code",
   "execution_count": 8,
   "id": "e7f498bc-0bba-44f2-beb4-2f931a39db26",
   "metadata": {},
   "outputs": [
    {
     "name": "stdout",
     "output_type": "stream",
     "text": [
      "Akurasi model (R-squared): 78.25916500760063 %\n"
     ]
    },
    {
     "name": "stderr",
     "output_type": "stream",
     "text": [
      "C:\\Users\\Lenovo\\AppData\\Local\\Programs\\Python\\Python312\\Lib\\site-packages\\sklearn\\base.py:486: UserWarning: X has feature names, but LinearRegression was fitted without feature names\n",
      "  warnings.warn(\n"
     ]
    }
   ],
   "source": [
    "from sklearn.metrics import r2_score\n",
    "\n",
    "y_pred = lm.predict(X_test)\n",
    "akurasi = r2_score(y_test, y_pred)\n",
    "print(\"Akurasi model (R-squared):\", akurasi * 100, \"%\")"
   ]
  },
  {
   "cell_type": "markdown",
   "id": "68155eb4-a1fa-4180-b21f-17bf4c76b026",
   "metadata": {},
   "source": [
    "#### plt.figure(figsize=(8, 6)): Ini untuk membuat gambar (figure) dengan ukuran 8x6 inci.\n",
    "#### plt.scatter(X_test, y_test, color='blue', label=\"Data Asli\"): ini untuk membuat scatter plot (titik-titik) untuk data pengujian (X_test dan y_test) dengan warna biru dan label \"Data Asli\".\n",
    "#### plt.plot(X_test, y_pred, color='red', label=\"Garis Regresi\"): Ini untuk membuat plot garis regresi menggunakan data pengujian (X_test) dan prediksi (y_pred) dengan warna merah dan label \"Garis Regresi\".\n",
    "#### plt.title(\"Study Hours vs. Exam Scores (Garis Regresi)\"): ini untuk memberikan judul pada plot.\n",
    "#### plt.xlabel(\"Study Hours (X)\"): ini untuk memberikan label pada sumbu x\n",
    "#### plt.ylabel(\"Exam Scores (Y)\"): ini untuk memberikan label pada sumbu y\n",
    "#### plt.legend(): ini unutk menampilkan legenda untuk scatter plot dan garis regresi.\n",
    "#### plt.show(): ini untukk menampilkan plot."
   ]
  },
  {
   "cell_type": "code",
   "execution_count": 9,
   "id": "1a30f3d5-ab50-4a90-a191-e71c14635b07",
   "metadata": {},
   "outputs": [
    {
     "data": {
      "image/png": "[encoded data removed]",
      "text/plain": [
       "<Figure size 800x600 with 1 Axes>"
      ]
     },
     "metadata": {},
     "output_type": "display_data"
    }
   ],
   "source": [
    "plt.figure(figsize=(8, 6))\n",
    "plt.scatter(X_test, y_test, color='blue', label=\"Data Asli\")\n",
    "plt.plot(X_test, y_pred, color='red', label=\"Garis Regresi\")\n",
    "plt.title(\"Study Hours vs. Exam Scores (Garis Regresi)\")\n",
    "plt.xlabel(\"Study Hours (X)\")\n",
    "plt.ylabel(\"Exam Scores (Y)\")\n",
    "plt.legend()\n",
    "plt.show()"
   ]
  },
  {
   "cell_type": "markdown",
   "id": "4aff04e0-ad3a-4457-aad1-a0f1e51cc478",
   "metadata": {},
   "source": [
    "# SELESAI"
   ]
  }
 ],
 "metadata": {
  "kernelspec": {
   "display_name": "Python 3 (ipykernel)",
   "language": "python",
   "name": "python3"
  },
  "language_info": {
   "codemirror_mode": {
    "name": "ipython",
    "version": 3
   },
   "file_extension": ".py",
   "mimetype": "text/x-python",
   "name": "python",
   "nbconvert_exporter": "python",
   "pygments_lexer": "ipython3",
   "version": "3.12.2"
  }
 },
 "nbformat": 4,
 "nbformat_minor": 5
}
